{
 "cells": [
  {
   "cell_type": "markdown",
   "metadata": {},
   "source": [
    "# 3. Tri des listes\n"
   ]
  },
  {
   "cell_type": "code",
   "execution_count": 1,
   "metadata": {},
   "outputs": [
    {
     "name": "stdout",
     "output_type": "stream",
     "text": [
      "13 [5, 4, 8, 5, 8, 10, 1, 3, 6, 6, 2, 3, 9]\n"
     ]
    }
   ],
   "source": [
    "ma_liste = [5, 4, 8, 5, 8, 10, 1, 3, 6, 6, 2, 3, 9]\n",
    "print(len(ma_liste), ma_liste)"
   ]
  },
  {
   "cell_type": "code",
   "execution_count": null,
   "metadata": {},
   "outputs": [],
   "source": []
  },
  {
   "cell_type": "markdown",
   "metadata": {},
   "source": [
    "### Méthode de classe / native ```list.sort```"
   ]
  },
  {
   "cell_type": "code",
   "execution_count": 6,
   "metadata": {},
   "outputs": [
    {
     "name": "stdout",
     "output_type": "stream",
     "text": [
      "Help on method_descriptor:\n",
      "\n",
      "sort(self, /, *, key=None, reverse=False)\n",
      "    Sort the list in ascending order and return None.\n",
      "    \n",
      "    The sort is in-place (i.e. the list itself is modified) and stable (i.e. the\n",
      "    order of two equal elements is maintained).\n",
      "    \n",
      "    If a key function is given, apply it once to each list item and sort them,\n",
      "    ascending or descending, according to their function values.\n",
      "    \n",
      "    The reverse flag can be set to sort in descending order.\n",
      "\n"
     ]
    }
   ],
   "source": [
    "help(list.sort)"
   ]
  },
  {
   "cell_type": "code",
   "execution_count": 2,
   "metadata": {},
   "outputs": [
    {
     "name": "stdout",
     "output_type": "stream",
     "text": [
      "[1, 2, 3, 3, 4, 5, 5, 6, 6, 8, 8, 9, 10]\n"
     ]
    }
   ],
   "source": [
    "ma_liste.sort()#elle ne retourne rien si je fait ma_liste=ma_liste.sorte() je vais perdre ma liste oyy\n",
    "print(ma_liste)"
   ]
  },
  {
   "cell_type": "code",
   "execution_count": 3,
   "metadata": {},
   "outputs": [
    {
     "name": "stdout",
     "output_type": "stream",
     "text": [
      "[10, 9, 8, 8, 6, 6, 5, 5, 4, 3, 3, 2, 1]\n"
     ]
    }
   ],
   "source": [
    "ma_liste.sort(reverse=True)\n",
    "print(ma_liste)"
   ]
  },
  {
   "cell_type": "code",
   "execution_count": null,
   "metadata": {},
   "outputs": [],
   "source": []
  },
  {
   "cell_type": "markdown",
   "metadata": {},
   "source": [
    "### Méthode ```sorted```"
   ]
  },
  {
   "cell_type": "code",
   "execution_count": 4,
   "metadata": {},
   "outputs": [
    {
     "name": "stdout",
     "output_type": "stream",
     "text": [
      "Help on built-in function sorted in module builtins:\n",
      "\n",
      "sorted(iterable, /, *, key=None, reverse=False)\n",
      "    Return a new list containing all items from the iterable in ascending order.\n",
      "    \n",
      "    A custom key function can be supplied to customize the sort order, and the\n",
      "    reverse flag can be set to request the result in descending order.\n",
      "\n"
     ]
    }
   ],
   "source": [
    "help(sorted)"
   ]
  },
  {
   "cell_type": "code",
   "execution_count": 5,
   "metadata": {},
   "outputs": [
    {
     "data": {
      "text/plain": [
       "[1, 2, 3, 3, 4, 5, 5, 6, 6, 8, 8, 9, 10]"
      ]
     },
     "execution_count": 5,
     "metadata": {},
     "output_type": "execute_result"
    }
   ],
   "source": [
    "ma_liste = [5, 4, 8, 5, 8, 10, 1, 3, 6, 6, 2, 3, 9]\n",
    "sorted(ma_liste)"
   ]
  },
  {
   "cell_type": "code",
   "execution_count": 7,
   "metadata": {},
   "outputs": [
    {
     "data": {
      "text/plain": [
       "[10, 9, 8, 8, 6, 6, 5, 5, 4, 3, 3, 2, 1]"
      ]
     },
     "execution_count": 7,
     "metadata": {},
     "output_type": "execute_result"
    }
   ],
   "source": [
    "sorted(ma_liste, reverse=True)"
   ]
  },
  {
   "cell_type": "code",
   "execution_count": null,
   "metadata": {},
   "outputs": [],
   "source": []
  },
  {
   "cell_type": "markdown",
   "metadata": {},
   "source": [
    "## Exercices"
   ]
  },
  {
   "cell_type": "code",
   "execution_count": 9,
   "metadata": {},
   "outputs": [],
   "source": [
    "ma_liste = [5, 4, 8, 5, 8, 10, 1, 3, 6, 6, 2, 3, 9]"
   ]
  },
  {
   "cell_type": "code",
   "execution_count": null,
   "metadata": {},
   "outputs": [],
   "source": []
  },
  {
   "cell_type": "code",
   "execution_count": 10,
   "metadata": {},
   "outputs": [],
   "source": [
    "# FYI: Implementation demo flag\n",
    "def calculer_somme(L, demo = False):\n",
    "    somme = 0\n",
    "    for i in range(len(L)):\n",
    "        somme += L[i]\n",
    "        if demo:\n",
    "            print(L[i], somme)\n",
    "    return somme"
   ]
  },
  {
   "cell_type": "code",
   "execution_count": 11,
   "metadata": {},
   "outputs": [
    {
     "data": {
      "text/plain": [
       "70"
      ]
     },
     "execution_count": 11,
     "metadata": {},
     "output_type": "execute_result"
    }
   ],
   "source": [
    "ma_liste = [5, 4, 8, 5, 8, 10, 1, 3, 6, 6, 2, 3, 9]\n",
    "calculer_somme(ma_liste)"
   ]
  },
  {
   "cell_type": "code",
   "execution_count": 12,
   "metadata": {},
   "outputs": [
    {
     "name": "stdout",
     "output_type": "stream",
     "text": [
      "5 5\n",
      "4 9\n",
      "8 17\n",
      "5 22\n",
      "8 30\n",
      "10 40\n",
      "1 41\n",
      "3 44\n",
      "6 50\n",
      "6 56\n",
      "2 58\n",
      "3 61\n",
      "9 70\n"
     ]
    },
    {
     "data": {
      "text/plain": [
       "70"
      ]
     },
     "execution_count": 12,
     "metadata": {},
     "output_type": "execute_result"
    }
   ],
   "source": [
    "ma_liste = [5, 4, 8, 5, 8, 10, 1, 3, 6, 6, 2, 3, 9]\n",
    "calculer_somme(ma_liste, demo = True)"
   ]
  },
  {
   "cell_type": "markdown",
   "metadata": {},
   "source": [
    "### Tri par sélection (min)"
   ]
  },
  {
   "cell_type": "markdown",
   "metadata": {},
   "source": [
    "> **Démo avec jeux de cartes**"
   ]
  },
  {
   "cell_type": "markdown",
   "metadata": {},
   "source": [
    "TO DO: Décrivez l'algorithme de tri par sélection en pseudo-code:  \n",
    "Slection du minimum\n",
    "\n",
    "Debut\n",
    "\n",
    "1- Rechercher l'element le plus petit\n",
    "2- permuter entre le min et le premier element de la list\n",
    "\n",
    "3-Répéter 1 (commencer le parcous a partir du l'élement suivant) \n",
    "  \n",
    "Fin  \n",
    "--"
   ]
  },
  {
   "cell_type": "code",
   "execution_count": 155,
   "metadata": {},
   "outputs": [],
   "source": [
    "# Implémentation du tri par sélection (utilisant fonction min())\n",
    "def tri_selection(L, demo = False):\n",
    "  \n",
    "    for i in range(len(L)-1):\n",
    "        min_list=min(L[i:len(L)])   \n",
    "        index_min=L[i:len(L)].index(min_list)+i\n",
    "        L[i],L[index_min]=L[index_min],L[i]  \n",
    "    return L    "
   ]
  },
  {
   "cell_type": "code",
   "execution_count": 113,
   "metadata": {},
   "outputs": [
    {
     "data": {
      "text/plain": [
       "[1, 2, 3, 3, 4, 5, 5, 6, 6, 8, 8, 9, 10]"
      ]
     },
     "execution_count": 113,
     "metadata": {},
     "output_type": "execute_result"
    }
   ],
   "source": [
    "ma_liste = [5, 4, 8, 5, 8, 10, 1, 3, 6, 6, 2, 3, 9]\n",
    "tri_selection(ma_liste, True)"
   ]
  },
  {
   "cell_type": "code",
   "execution_count": null,
   "metadata": {},
   "outputs": [],
   "source": [
    "ma_liste"
   ]
  },
  {
   "cell_type": "code",
   "execution_count": 110,
   "metadata": {},
   "outputs": [],
   "source": [
    "# Implémentation du tri par sélection (avec ré-implémentation d'une fonction min personnelle)\n",
    "# ré-implémentation de la fonction min\n",
    "def trouver_minimum(T):\n",
    "    min_l=T[0]\n",
    "    \n",
    "    for i in range(len(T)):\n",
    "        if T[i]<=min_l:\n",
    "            min_l=T[i]\n",
    "    \n",
    "    return T.index(min_l)\n",
    "def tri_selection_complet(L, demo = False):\n",
    "    \n",
    "    for i in range(len(L)-1):\n",
    "        \n",
    "        index_min=trouver_minimum(L[i:])+i\n",
    "        L[i],L[index_min]=L[index_min],L[i]  \n",
    "    return L        \n",
    "    "
   ]
  },
  {
   "cell_type": "code",
   "execution_count": 111,
   "metadata": {},
   "outputs": [
    {
     "data": {
      "text/plain": [
       "[1, 2, 3, 3, 4, 5, 5, 6, 6, 8, 8, 9, 10]"
      ]
     },
     "execution_count": 111,
     "metadata": {},
     "output_type": "execute_result"
    }
   ],
   "source": [
    "ma_liste = [5, 4, 8, 5, 8, 10, 1, 3, 6, 6, 2, 3, 9]\n",
    "tri_selection_complet(ma_liste, True)"
   ]
  },
  {
   "cell_type": "markdown",
   "metadata": {},
   "source": [
    "---"
   ]
  },
  {
   "cell_type": "markdown",
   "metadata": {},
   "source": [
    "### Tri à bulles (ou tri par propagation)"
   ]
  },
  {
   "cell_type": "markdown",
   "metadata": {},
   "source": [
    "> **Démo avec jeux de cartes**"
   ]
  },
  {
   "cell_type": "markdown",
   "metadata": {},
   "source": [
    "Autre illustration (Source: [wikipedia](https://en.wikipedia.org/wiki/Bubble_sort))  "
   ]
  },
  {
   "cell_type": "markdown",
   "metadata": {},
   "source": [
    "![Tri à Bulles](./img/bubble-sort.gif)  \n"
   ]
  },
  {
   "cell_type": "markdown",
   "metadata": {},
   "source": [
    "TO DO: Décrivez l'algorithme du tri à bulles en pseudo-code:  \n",
    "\n",
    " 1. Nous allons faire un premier passage.\n",
    " - on parcours le list\n",
    " - si  L[j+1]< L[j]: on permute \n",
    " - si i= Len(L) on s'arrete\n",
    " 2. Pour un deuxieme passage on doit poser est la suivante : Devons-nous continuer ? \n",
    "     - Oui car lors du dernier passage, au moins un échange a été effectué. \n",
    "     - Nous allons donc refaire un passage mais en omettant la dernière case. \n",
    "  \n",
    "--"
   ]
  },
  {
   "cell_type": "code",
   "execution_count": 153,
   "metadata": {},
   "outputs": [],
   "source": [
    "def tri_bulles(L, demo = False):\n",
    "    for i in range(len(L)):\n",
    "        for j in range(len(L)-1):\n",
    "            if L[j] > L[j+1]:\n",
    "                L[j], L[j+1] = L[j+1], L[j]\n",
    "    return L"
   ]
  },
  {
   "cell_type": "code",
   "execution_count": 154,
   "metadata": {},
   "outputs": [
    {
     "data": {
      "text/plain": [
       "[1, 2, 3, 3, 4, 5, 5, 6, 6, 8, 8, 9, 10]"
      ]
     },
     "execution_count": 154,
     "metadata": {},
     "output_type": "execute_result"
    }
   ],
   "source": [
    "ma_liste = [5, 4, 8, 5, 8, 10, 1, 3, 6, 6, 2, 3, 9]\n",
    "tri_bulles(ma_liste, demo = True)"
   ]
  },
  {
   "cell_type": "code",
   "execution_count": 138,
   "metadata": {},
   "outputs": [
    {
     "name": "stdout",
     "output_type": "stream",
     "text": [
      "10 [10, 9, 8, 7, 6, 5, 4, 3, 2, 1]\n"
     ]
    }
   ],
   "source": [
    "pire_cas = [i for i in range(10, 0, -1)]\n",
    "print(len(pire_cas), pire_cas)"
   ]
  },
  {
   "cell_type": "code",
   "execution_count": 139,
   "metadata": {},
   "outputs": [
    {
     "data": {
      "text/plain": [
       "[1, 2, 3, 4, 5, 6, 7, 8, 9, 10]"
      ]
     },
     "execution_count": 139,
     "metadata": {},
     "output_type": "execute_result"
    }
   ],
   "source": [
    "tri_bulles(pire_cas, True)"
   ]
  },
  {
   "cell_type": "code",
   "execution_count": 140,
   "metadata": {},
   "outputs": [
    {
     "data": {
      "text/plain": [
       "45"
      ]
     },
     "execution_count": 140,
     "metadata": {},
     "output_type": "execute_result"
    }
   ],
   "source": [
    "# Le nb d'itérations dans ce cas est: n * (n + 1) / 2)\n",
    "9 + 8 + 7 + 6 + 5 + 4 + 3 + 2 + 1"
   ]
  },
  {
   "cell_type": "code",
   "execution_count": 141,
   "metadata": {},
   "outputs": [
    {
     "data": {
      "text/plain": [
       "45"
      ]
     },
     "execution_count": 141,
     "metadata": {},
     "output_type": "execute_result"
    }
   ],
   "source": [
    "# Ce qui est égal à n * (n + 1) / 2  avec n = 9\n",
    "9 * 10 // 2"
   ]
  },
  {
   "cell_type": "code",
   "execution_count": null,
   "metadata": {},
   "outputs": [],
   "source": []
  },
  {
   "cell_type": "markdown",
   "metadata": {},
   "source": [
    "---\n",
    "## Application à une liste de chaînes de caractère"
   ]
  },
  {
   "cell_type": "markdown",
   "metadata": {},
   "source": [
    "**Rappel: Comparaison de chaînes de caractères**"
   ]
  },
  {
   "cell_type": "code",
   "execution_count": 142,
   "metadata": {},
   "outputs": [
    {
     "data": {
      "text/plain": [
       "False"
      ]
     },
     "execution_count": 142,
     "metadata": {},
     "output_type": "execute_result"
    }
   ],
   "source": [
    "\"Abc\" > \"cdf\""
   ]
  },
  {
   "cell_type": "code",
   "execution_count": 146,
   "metadata": {},
   "outputs": [
    {
     "data": {
      "text/plain": [
       "False"
      ]
     },
     "execution_count": 146,
     "metadata": {},
     "output_type": "execute_result"
    }
   ],
   "source": [
    "\"A\" > \"a\""
   ]
  },
  {
   "cell_type": "code",
   "execution_count": 144,
   "metadata": {},
   "outputs": [
    {
     "data": {
      "text/plain": [
       "True"
      ]
     },
     "execution_count": 144,
     "metadata": {},
     "output_type": "execute_result"
    }
   ],
   "source": [
    "\"Vincent\" > \"Christophe\""
   ]
  },
  {
   "cell_type": "code",
   "execution_count": 145,
   "metadata": {},
   "outputs": [
    {
     "data": {
      "text/plain": [
       "False"
      ]
     },
     "execution_count": 145,
     "metadata": {},
     "output_type": "execute_result"
    }
   ],
   "source": [
    "\"Vincent\" > \"christophe\""
   ]
  },
  {
   "cell_type": "code",
   "execution_count": null,
   "metadata": {},
   "outputs": [],
   "source": []
  },
  {
   "cell_type": "code",
   "execution_count": 147,
   "metadata": {},
   "outputs": [],
   "source": [
    "promo = ['Théo', 'Philippe', 'Lamia', 'Marvin', \n",
    "         'Maëlle', 'Yoann', 'Jonathan', 'Corentin', \n",
    "         'Joris', 'Matthias', 'Alicia', 'Izak', \n",
    "         'Mayel', 'Corentin', 'Jordan', 'Abire' \n",
    "]"
   ]
  },
  {
   "cell_type": "code",
   "execution_count": 148,
   "metadata": {},
   "outputs": [
    {
     "data": {
      "text/plain": [
       "['Abire',\n",
       " 'Alicia',\n",
       " 'Corentin',\n",
       " 'Corentin',\n",
       " 'Izak',\n",
       " 'Jonathan',\n",
       " 'Jordan',\n",
       " 'Joris',\n",
       " 'Lamia',\n",
       " 'Marvin',\n",
       " 'Matthias',\n",
       " 'Mayel',\n",
       " 'Maëlle',\n",
       " 'Philippe',\n",
       " 'Théo',\n",
       " 'Yoann']"
      ]
     },
     "execution_count": 148,
     "metadata": {},
     "output_type": "execute_result"
    }
   ],
   "source": [
    "sorted(promo)"
   ]
  },
  {
   "cell_type": "code",
   "execution_count": 149,
   "metadata": {},
   "outputs": [
    {
     "data": {
      "text/plain": [
       "['Abire',\n",
       " 'Alicia',\n",
       " 'Corentin',\n",
       " 'Corentin',\n",
       " 'Izak',\n",
       " 'Jonathan',\n",
       " 'Jordan',\n",
       " 'Joris',\n",
       " 'Lamia',\n",
       " 'Marvin',\n",
       " 'Matthias',\n",
       " 'Mayel',\n",
       " 'Maëlle',\n",
       " 'Philippe',\n",
       " 'Théo',\n",
       " 'Yoann']"
      ]
     },
     "execution_count": 149,
     "metadata": {},
     "output_type": "execute_result"
    }
   ],
   "source": [
    "tri_bulles(promo, True)"
   ]
  },
  {
   "cell_type": "code",
   "execution_count": null,
   "metadata": {},
   "outputs": [],
   "source": []
  },
  {
   "cell_type": "markdown",
   "metadata": {},
   "source": [
    "---\n",
    "## Pour aller plus loin\n",
    "\n",
    "Voir \n",
    "- [Complexité algorithmique en temps](https://fr.wikipedia.org/wiki/Complexit%C3%A9_en_temps)\n",
    "- [Algorithme de tri sur Wikipedia](https://fr.wikipedia.org/wiki/Algorithme_de_tri)"
   ]
  },
  {
   "cell_type": "code",
   "execution_count": null,
   "metadata": {},
   "outputs": [],
   "source": []
  },
  {
   "cell_type": "markdown",
   "metadata": {},
   "source": [
    "### Tri à bulles optimisé\n",
    "TO DO: Imaginer ou rechercher sur internet une possibilité d'améliorer le tri à bulles"
   ]
  },
  {
   "cell_type": "code",
   "execution_count": 151,
   "metadata": {},
   "outputs": [],
   "source": [
    "def tri_bulles_optimise(L, demo = False):\n",
    "    permuter= True\n",
    "    while permuter:\n",
    "        permuter=False\n",
    "        for j in range(len(L)-1):\n",
    "            if L[j+1]< L[j]:\n",
    "                L[j],L[j+1]=L[j+1],L[j]\n",
    "                permuter= True\n",
    "            \n",
    "    return L"
   ]
  },
  {
   "cell_type": "code",
   "execution_count": 152,
   "metadata": {},
   "outputs": [
    {
     "data": {
      "text/plain": [
       "[1, 2, 3, 3, 4, 5, 5, 6, 6, 8, 8, 9, 10]"
      ]
     },
     "execution_count": 152,
     "metadata": {},
     "output_type": "execute_result"
    }
   ],
   "source": [
    "ma_liste = [5, 4, 8, 5, 8, 10, 1, 3, 6, 6, 2, 3, 9]\n",
    "tri_bulles_optimise(ma_liste)"
   ]
  },
  {
   "cell_type": "code",
   "execution_count": null,
   "metadata": {},
   "outputs": [],
   "source": []
  },
  {
   "cell_type": "markdown",
   "metadata": {},
   "source": [
    "### Tri fusion (merge sort)"
   ]
  },
  {
   "cell_type": "markdown",
   "metadata": {},
   "source": [
    "Pseudo code du tri par fusion \n",
    "\n",
    "- on decoupe la list en deux parties egales( 1 un element pre si la taille de la list est impaire\n",
    "- on trie la partie Gauche\n",
    "- on trie la partie droite\n",
    "- on fusionne les deux parties tout en gardant les deux parties triées\n",
    "- on recommance les etapes précedentes d'une façon récursive jusqu'a avoir un tableau composé d'un seul element \n",
    "\n"
   ]
  },
  {
   "cell_type": "code",
   "execution_count": 172,
   "metadata": {},
   "outputs": [],
   "source": [
    "def tri_fusion(t):\n",
    "    n=len(t)\n",
    "    if n<2:\n",
    "        return t\n",
    "    else:\n",
    "        m=n//2\n",
    "    return fusion(tri_fusion(t[:m]),tri_fusion(t[m:]))\n",
    "\n",
    "\n",
    "\n",
    "def fusion(t1,t2):\n",
    "    i1,i2,n1,n2=0,0,len(t1),len(t2)\n",
    "    t=[]\n",
    "    while i1<n1 and i2<n2:\n",
    "        if t1[i1]<t2[i2]:\n",
    "            t.append(t1[i1])\n",
    "            i1+=1\n",
    "        else:\n",
    "            t.append(t2[i2])\n",
    "            i2+=1\n",
    "    if i1==n1:\n",
    "        t.extend(t2[i2:])\n",
    "    else:\n",
    "        t.extend(t1[i1:])\n",
    "    return t\n",
    "\n",
    "\n",
    "        \n",
    "\n",
    "    \n",
    "    "
   ]
  },
  {
   "cell_type": "code",
   "execution_count": 173,
   "metadata": {},
   "outputs": [
    {
     "data": {
      "text/plain": [
       "[1, 2, 3, 3, 4, 5, 5, 6, 6, 8, 8, 9, 10]"
      ]
     },
     "execution_count": 173,
     "metadata": {},
     "output_type": "execute_result"
    }
   ],
   "source": [
    "ma_liste = [5, 4, 8, 5, 8, 10, 1, 3, 6, 6, 2, 3, 9]\n",
    "tri_fusion(ma_liste)"
   ]
  },
  {
   "cell_type": "code",
   "execution_count": null,
   "metadata": {},
   "outputs": [],
   "source": []
  }
 ],
 "metadata": {
  "kernelspec": {
   "display_name": "Python 3",
   "language": "python",
   "name": "python3"
  },
  "language_info": {
   "codemirror_mode": {
    "name": "ipython",
    "version": 3
   },
   "file_extension": ".py",
   "mimetype": "text/x-python",
   "name": "python",
   "nbconvert_exporter": "python",
   "pygments_lexer": "ipython3",
   "version": "3.8.6"
  }
 },
 "nbformat": 4,
 "nbformat_minor": 4
}
